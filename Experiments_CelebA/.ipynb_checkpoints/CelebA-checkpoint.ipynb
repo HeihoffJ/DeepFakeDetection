{
 "cells": [
  {
   "cell_type": "markdown",
   "metadata": {},
   "source": [
    "# CelebA"
   ]
  },
  {
   "cell_type": "markdown",
   "metadata": {},
   "source": [
    "In this notebook we show the results for CelebA. You can create from scratch the features or use the pre-computed ones."
   ]
  },
  {
   "cell_type": "markdown",
   "metadata": {},
   "source": [
    "### 1. Create feature"
   ]
  },
  {
   "cell_type": "markdown",
   "metadata": {},
   "source": [
    "If you want to create the features, first of all unzip file \"dataset_celebA.7z \". Be sure to save the folder together with this notebook. You also need to download  [CelebA](http://mmlab.ie.cuhk.edu.hk/projects/CelebA.html).\n",
    "\n",
    "Otherwise, just jump to section 2."
   ]
  },
  {
   "cell_type": "code",
   "execution_count": 1,
   "metadata": {},
   "outputs": [],
   "source": [
    "#from https://www.astrobetter.com/blog/2010/03/03/fourier-transforms-of-images-in-python/\n",
    "import numpy as np\n",
    "\n",
    "def azimuthalAverage(image, center=None):\n",
    "    \"\"\"\n",
    "    Calculate the azimuthally averaged radial profile.\n",
    "    image - The 2D image\n",
    "    center - The [x,y] pixel coordinates used as the center. The default is \n",
    "             None, which then uses the center of the image (including \n",
    "             fracitonal pixels).\n",
    "    \n",
    "    \"\"\"\n",
    "    # Calculate the indices from the image\n",
    "    y, x = np.indices(image.shape)\n",
    "\n",
    "    if not center:\n",
    "        center = np.array([(x.max()-x.min())/2.0, (y.max()-y.min())/2.0])\n",
    "\n",
    "    r = np.hypot(x - center[0], y - center[1])\n",
    "\n",
    "    # Get sorted radii\n",
    "    ind = np.argsort(r.flat)\n",
    "    r_sorted = r.flat[ind]\n",
    "    i_sorted = image.flat[ind]\n",
    "\n",
    "    # Get the integer part of the radii (bin size = 1)\n",
    "    r_int = r_sorted.astype(int)\n",
    "\n",
    "    # Find all pixels that fall within each radial bin.\n",
    "    deltar = r_int[1:] - r_int[:-1]  # Assumes all radii represented\n",
    "    rind = np.where(deltar)[0]       # location of changed radius\n",
    "    nr = rind[1:] - rind[:-1]        # number of radius bin\n",
    "    \n",
    "    # Cumulative sum to figure out sums for each radius bin\n",
    "    csim = np.cumsum(i_sorted, dtype=float)\n",
    "    tbin = csim[rind[1:]] - csim[rind[:-1]]\n",
    "\n",
    "    radial_prof = tbin / nr\n",
    "\n",
    "    return radial_prof"
   ]
  },
  {
   "cell_type": "code",
   "execution_count": 2,
   "metadata": {},
   "outputs": [
    {
     "name": "stdout",
     "output_type": "stream",
     "text": [
      "10000\n",
      "DATA Saved\n"
     ]
    }
   ],
   "source": [
    "import cv2\n",
    "import numpy as np\n",
    "import os\n",
    "import glob\n",
    "from matplotlib import pyplot as plt\n",
    "import pickle\n",
    "from scipy.interpolate import griddata\n",
    "\n",
    "data= {}\n",
    "epsilon = 1e-8\n",
    "N = 80\n",
    "y = []\n",
    "error = []\n",
    "anzahlbilder=0\n",
    "\n",
    "number_iter = 1000\n",
    "\n",
    "psd1D_total = np.zeros([number_iter, N])\n",
    "label_total = np.zeros([number_iter])\n",
    "psd1D_org_mean = np.zeros(N)\n",
    "psd1D_org_std = np.zeros(N)\n",
    "\n",
    "\n",
    "cont = 0\n",
    "\n",
    "#fake data\n",
    "rootdir = 'dataset_celebA/'\n",
    "\n",
    "\n",
    "for filename in glob.glob(rootdir+\"*.jpg\"):\n",
    "    img = cv2.imread(filename,0)\n",
    "\n",
    "    \n",
    "    f = np.fft.fft2(img)\n",
    "    fshift = np.fft.fftshift(f)\n",
    "    fshift += epsilon\n",
    "    \n",
    "    magnitude_spectrum = 20*np.log(np.abs(fshift))\n",
    "    psd1D = azimuthalAverage(magnitude_spectrum)\n",
    "\n",
    "    # Calculate the azimuthally averaged 1D power spectrum\n",
    "    points = np.linspace(0,N,num=psd1D.size) # coordinates of a\n",
    "    xi = np.linspace(0,N,num=N) # coordinates for interpolation\n",
    "\n",
    "    interpolated = griddata(points,psd1D,xi,method='cubic')\n",
    "    interpolated /= interpolated[0]\n",
    "\n",
    "    psd1D_total[cont,:] = interpolated             \n",
    "    label_total[cont] = 1\n",
    "    cont+=1\n",
    "\n",
    "    if cont == number_iter:\n",
    "        break\n",
    "\n",
    "for x in range(N):\n",
    "    psd1D_org_mean[x] = np.mean(psd1D_total[:,x])\n",
    "    psd1D_org_std[x]= np.std(psd1D_total[:,x])\n",
    "    \n",
    "\n",
    "## real data\n",
    "psd1D_total2 = np.zeros([number_iter, N])\n",
    "label_total2 = np.zeros([number_iter])\n",
    "psd1D_org_mean2 = np.zeros(N)\n",
    "psd1D_org_std2 = np.zeros(N)\n",
    "\n",
    "cont = 0\n",
    "rootdir2 = '/scratch/hstr_heihoffj/dataset_simple/CelebA/img_align_celeba/'\n",
    "\n",
    "\n",
    "for filename in glob.glob(rootdir2+\"*.jpg\"):     \n",
    "    img = cv2.imread(filename,0)\n",
    "    \n",
    "    f = np.fft.fft2(img)\n",
    "    fshift = np.fft.fftshift(f)\n",
    "    fshift += epsilon\n",
    "    anzahlbilder+=1\n",
    "\n",
    "    magnitude_spectrum = 20*np.log(np.abs(fshift))\n",
    "\n",
    "    # Calculate the azimuthally averaged 1D power spectrum\n",
    "    psd1D = azimuthalAverage(magnitude_spectrum)\n",
    "\n",
    "    points = np.linspace(0,N,num=psd1D.size) # coordinates of a\n",
    "    xi = np.linspace(0,N,num=N) # coordinates for interpolation\n",
    "\n",
    "    interpolated = griddata(points,psd1D,xi,method='cubic')\n",
    "\n",
    "    interpolated /= interpolated[0]\n",
    "\n",
    "    psd1D_total2[cont,:] = interpolated             \n",
    "    label_total2[cont] = 0\n",
    "    cont+=1\n",
    "    \n",
    "    if cont == number_iter:\n",
    "        break\n",
    "\n",
    "for x in range(N):\n",
    "    psd1D_org_mean2[x] = np.mean(psd1D_total2[:,x])\n",
    "    psd1D_org_std2[x]= np.std(psd1D_total2[:,x])\n",
    "    \n",
    "\n",
    "y.append(psd1D_org_mean)\n",
    "y.append(psd1D_org_mean2)\n",
    "error.append(psd1D_org_std)\n",
    "error.append(psd1D_org_std2)\n",
    "\n",
    "psd1D_total_final = np.concatenate((psd1D_total,psd1D_total2), axis=0)\n",
    "label_total_final = np.concatenate((label_total,label_total2), axis=0)\n",
    "\n",
    "data[\"data\"] = psd1D_total_final\n",
    "data[\"label\"] = label_total_final\n",
    "\n",
    "output = open('celeba_low_1000.pkl', 'wb')\n",
    "pickle.dump(data, output)\n",
    "output.close()\n",
    "\n",
    "print(anzahlbilder)\n",
    "print(\"DATA Saved\")"
   ]
  },
  {
   "cell_type": "markdown",
   "metadata": {},
   "source": [
    "Now, we load the features. Either the pre-computed ones or the features that you have created."
   ]
  },
  {
   "cell_type": "code",
   "execution_count": 3,
   "metadata": {},
   "outputs": [],
   "source": [
    "import numpy as np\n",
    "import matplotlib.pyplot as plt\n",
    "import pickle\n",
    "\n",
    "# load feature file\n",
    "pkl_file = open('celeba_low_1000.pkl', 'rb')\n",
    "data = pickle.load(pkl_file)\n",
    "pkl_file.close()\n",
    "X = data[\"data\"]\n",
    "y = data[\"label\"]"
   ]
  },
  {
   "cell_type": "markdown",
   "metadata": {},
   "source": [
    "### 2. Loading Features"
   ]
  },
  {
   "cell_type": "markdown",
   "metadata": {},
   "source": [
    "We look at the label distribution, to be sure that we have a balanced dataset."
   ]
  },
  {
   "cell_type": "code",
   "execution_count": 4,
   "metadata": {},
   "outputs": [
    {
     "data": {
      "text/plain": [
       "[<matplotlib.lines.Line2D at 0x2b0716f20950>]"
      ]
     },
     "execution_count": 4,
     "metadata": {},
     "output_type": "execute_result"
    },
    {
     "data": {
      "image/png": "[encoded data removed]",
      "text/plain": [
       "<Figure size 432x288 with 1 Axes>"
      ]
     },
     "metadata": {
      "needs_background": "light"
     },
     "output_type": "display_data"
    }
   ],
   "source": [
    "plt.plot(y)"
   ]
  },
  {
   "cell_type": "markdown",
   "metadata": {},
   "source": [
    "### 3. Check Spectrum"
   ]
  },
  {
   "cell_type": "markdown",
   "metadata": {},
   "source": [
    "We have a look to the spectrum"
   ]
  },
  {
   "cell_type": "code",
   "execution_count": 5,
   "metadata": {},
   "outputs": [
    {
     "ename": "IndexError",
     "evalue": "index 10000 is out of bounds for axis 0 with size 10000",
     "output_type": "error",
     "traceback": [
      "\u001b[0;31m---------------------------------------------------------------------------\u001b[0m",
      "\u001b[0;31mIndexError\u001b[0m                                Traceback (most recent call last)",
      "\u001b[0;32m<ipython-input-5-b6626b22e2ad>\u001b[0m in \u001b[0;36m<module>\u001b[0;34m\u001b[0m\n\u001b[1;32m     15\u001b[0m \u001b[0;32mfor\u001b[0m \u001b[0mx\u001b[0m \u001b[0;32min\u001b[0m \u001b[0mrange\u001b[0m\u001b[0;34m(\u001b[0m\u001b[0mX\u001b[0m\u001b[0;34m.\u001b[0m\u001b[0mshape\u001b[0m\u001b[0;34m[\u001b[0m\u001b[0;36m0\u001b[0m\u001b[0;34m]\u001b[0m\u001b[0;34m)\u001b[0m\u001b[0;34m:\u001b[0m\u001b[0;34m\u001b[0m\u001b[0;34m\u001b[0m\u001b[0m\n\u001b[1;32m     16\u001b[0m     \u001b[0;32mif\u001b[0m \u001b[0my\u001b[0m\u001b[0;34m[\u001b[0m\u001b[0mx\u001b[0m\u001b[0;34m]\u001b[0m\u001b[0;34m==\u001b[0m\u001b[0;36m0\u001b[0m\u001b[0;34m:\u001b[0m\u001b[0;34m\u001b[0m\u001b[0;34m\u001b[0m\u001b[0m\n\u001b[0;32m---> 17\u001b[0;31m         \u001b[0mpsd1D_org_0\u001b[0m\u001b[0;34m[\u001b[0m\u001b[0mcont_0\u001b[0m\u001b[0;34m,\u001b[0m\u001b[0;34m:\u001b[0m\u001b[0;34m]\u001b[0m \u001b[0;34m=\u001b[0m \u001b[0mX\u001b[0m\u001b[0;34m[\u001b[0m\u001b[0mx\u001b[0m\u001b[0;34m,\u001b[0m\u001b[0;34m:\u001b[0m\u001b[0;34m]\u001b[0m\u001b[0;34m\u001b[0m\u001b[0;34m\u001b[0m\u001b[0m\n\u001b[0m\u001b[1;32m     18\u001b[0m         \u001b[0mcont_0\u001b[0m\u001b[0;34m+=\u001b[0m\u001b[0;36m1\u001b[0m\u001b[0;34m\u001b[0m\u001b[0;34m\u001b[0m\u001b[0m\n\u001b[1;32m     19\u001b[0m     \u001b[0;32melif\u001b[0m \u001b[0my\u001b[0m\u001b[0;34m[\u001b[0m\u001b[0mx\u001b[0m\u001b[0;34m]\u001b[0m\u001b[0;34m==\u001b[0m\u001b[0;36m1\u001b[0m\u001b[0;34m:\u001b[0m\u001b[0;34m\u001b[0m\u001b[0;34m\u001b[0m\u001b[0m\n",
      "\u001b[0;31mIndexError\u001b[0m: index 10000 is out of bounds for axis 0 with size 10000"
     ]
    }
   ],
   "source": [
    "num = int(X.shape[0]/2)\n",
    "num_feat = X.shape[1]\n",
    "\n",
    "psd1D_org_0 = np.zeros((num,num_feat))\n",
    "psd1D_org_1 = np.zeros((num,num_feat))\n",
    "psd1D_org_0_mean = np.zeros(num_feat)\n",
    "psd1D_org_0_std = np.zeros(num_feat)\n",
    "psd1D_org_1_mean = np.zeros(num_feat)\n",
    "psd1D_org_1_std = np.zeros(num_feat)\n",
    "\n",
    "cont_0=0\n",
    "cont_1=0\n",
    "\n",
    "# We separate real and fake using the label\n",
    "for x in range(X.shape[0]):\n",
    "    if y[x]==0:\n",
    "        psd1D_org_0[cont_0,:] = X[x,:]\n",
    "        cont_0+=1\n",
    "    elif y[x]==1:\n",
    "        psd1D_org_1[cont_1,:] = X[x,:]\n",
    "        cont_1+=1\n",
    "\n",
    "# We compute statistcis\n",
    "for x in range(num_feat):\n",
    "    psd1D_org_0_mean[x] = np.mean(psd1D_org_0[:,x])\n",
    "    psd1D_org_0_std[x]= np.std(psd1D_org_0[:,x])\n",
    "    psd1D_org_1_mean[x] = np.mean(psd1D_org_1[:,x])\n",
    "    psd1D_org_1_std[x]= np.std(psd1D_org_1[:,x])\n",
    "    \n",
    "# Plot\n",
    "x = np.arange(0, num_feat, 1)\n",
    "fig, ax = plt.subplots(figsize=(15, 9))\n",
    "ax.plot(x, psd1D_org_0_mean, alpha=0.5, color='red', label='Fake', linewidth =2.0)\n",
    "ax.fill_between(x, psd1D_org_0_mean - psd1D_org_0_std, psd1D_org_0_mean + psd1D_org_0_std, color='red', alpha=0.2)\n",
    "ax.plot(x, psd1D_org_1_mean, alpha=0.5, color='blue', label='Real', linewidth =2.0)\n",
    "ax.fill_between(x, psd1D_org_1_mean - psd1D_org_1_std, psd1D_org_1_mean + psd1D_org_1_std, color='blue', alpha=0.2)\n",
    "\n",
    "plt.tick_params(axis='x', labelsize=20)\n",
    "plt.tick_params(axis='y', labelsize=20)\n",
    "ax.legend(loc='best', prop={'size': 20})\n",
    "plt.xlabel(\"Spatial Frequency\", fontsize=20)\n",
    "plt.ylabel(\"Power Spectrum\", fontsize=20)\n",
    "#plt.savefig('1000_celeba.png', bbox_inches='tight')"
   ]
  },
  {
   "cell_type": "markdown",
   "metadata": {},
   "source": [
    "### 4. Classification"
   ]
  },
  {
   "cell_type": "markdown",
   "metadata": {},
   "source": [
    "Now we classify using the features."
   ]
  },
  {
   "cell_type": "code",
   "execution_count": null,
   "metadata": {},
   "outputs": [],
   "source": [
    "import numpy as np\n",
    "import matplotlib.pyplot as plt\n",
    "import pickle\n",
    "\n",
    "num = 10\n",
    "LR = 0\n",
    "SVM = 0\n",
    "SVM_r = 0\n",
    "SVM_p = 0\n",
    "\n",
    "\n",
    "for z in range(num):\n",
    "    # read python dict back from the file\n",
    "    pkl_file = open('celeba_low_1000.pkl', 'rb')\n",
    "    \n",
    "    data = pickle.load(pkl_file)\n",
    "\n",
    "    pkl_file.close()\n",
    "    X = data[\"data\"]\n",
    "    y = data[\"label\"]\n",
    "\n",
    "\n",
    "    try:\n",
    "        print(\"went into try\")\n",
    "        from sklearn.model_selection import train_test_split\n",
    "        X_train, X_test, y_train, y_test = train_test_split(X, y, test_size = 0.2)\n",
    "        \n",
    "        print(\"try 1\")\n",
    "\n",
    "        from sklearn.svm import SVC\n",
    "        svclassifier = SVC(kernel='linear')\n",
    "        svclassifier.fit(X_train, y_train)\n",
    "        #print('Accuracy on test set: {:.3f}'.format(svclassifier.score(X_test, y_test)))\n",
    "               \n",
    "        from sklearn.svm import SVC\n",
    "        svclassifier_r = SVC(C=6.37, kernel='rbf', gamma=0.86)\n",
    "        svclassifier_r.fit(X_train, y_train)\n",
    "        #print('Accuracy on test set: {:.3f}'.format(svclassifier_r.score(X_test, y_test)))\n",
    "                \n",
    "        from sklearn.svm import SVC\n",
    "        svclassifier_p = SVC(kernel='poly')\n",
    "        svclassifier_p.fit(X_train, y_train)\n",
    "        #print('Accuracy on test set: {:.3f}'.format(svclassifier_p.score(X_test, y_test)))\n",
    "        \n",
    "        from sklearn.linear_model import LogisticRegression\n",
    "        logreg = LogisticRegression(solver='liblinear', max_iter=1000)\n",
    "        logreg.fit(X_train, y_train)\n",
    "        #print('Accuracy on test set: {:.3f}'.format(logreg.score(X_test, y_test)))\n",
    "\n",
    "        \n",
    "        SVM+=svclassifier.score(X_test, y_test)\n",
    "        SVM_r+=svclassifier_r.score(X_test, y_test)\n",
    "        SVM_p+=svclassifier_p.score(X_test, y_test)\n",
    "        LR+=logreg.score(X_test, y_test)\n",
    "        #print(\"try over\")\n",
    "\n",
    "        \n",
    "    except:\n",
    "        num-=1\n",
    "        print(num)\n",
    "    \n",
    "print(\"Average SVM: \"+str(SVM/num))\n",
    "print(\"Average SVM_r: \"+str(SVM_r/num))\n",
    "print(\"Average SVM_p: \"+str(SVM_p/num))\n",
    "print(\"Average LR: \"+str(LR/num))\n",
    "\n"
   ]
  },
  {
   "cell_type": "code",
   "execution_count": null,
   "metadata": {},
   "outputs": [],
   "source": []
  },
  {
   "cell_type": "code",
   "execution_count": null,
   "metadata": {},
   "outputs": [],
   "source": []
  },
  {
   "cell_type": "code",
   "execution_count": null,
   "metadata": {},
   "outputs": [],
   "source": []
  },
  {
   "cell_type": "code",
   "execution_count": null,
   "metadata": {},
   "outputs": [],
   "source": []
  },
  {
   "cell_type": "code",
   "execution_count": null,
   "metadata": {},
   "outputs": [],
   "source": []
  }
 ],
 "metadata": {
  "kernelspec": {
   "display_name": "Python 3",
   "language": "python",
   "name": "python3"
  },
  "language_info": {
   "codemirror_mode": {
    "name": "ipython",
    "version": 3
   },
   "file_extension": ".py",
   "mimetype": "text/x-python",
   "name": "python",
   "nbconvert_exporter": "python",
   "pygments_lexer": "ipython3",
   "version": "3.7.9"
  }
 },
 "nbformat": 4,
 "nbformat_minor": 4
}
